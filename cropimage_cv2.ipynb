{
 "cells": [
  {
   "cell_type": "code",
   "execution_count": null,
   "id": "f8c81132",
   "metadata": {},
   "outputs": [],
   "source": [
    "import cv2\n",
    "import os\n",
    "import matplotlib.pyplot as plt\n",
    "\n",
    "for i in os.listdir(r\"/content/drive/MyDrive/Shivam/img_seg/plant_img/\"):\n",
    "    img = cv2.imread(r\"/content/drive/MyDrive/Shivam/img_seg/plant_img/\"+i)\n",
    "    crop_img = img[int(0.1*len(img)):int(0.5*len(img)), int(0.25*len(img)):int(0.75*len(img))]\n",
    "    cv2.imwrite(r\"/content/drive/MyDrive/Shivam/img_seg/new_crop/\"+i, crop_img)"
   ]
  }
 ],
 "metadata": {
  "kernelspec": {
   "display_name": "Python 3 (ipykernel)",
   "language": "python",
   "name": "python3"
  },
  "language_info": {
   "codemirror_mode": {
    "name": "ipython",
    "version": 3
   },
   "file_extension": ".py",
   "mimetype": "text/x-python",
   "name": "python",
   "nbconvert_exporter": "python",
   "pygments_lexer": "ipython3",
   "version": "3.9.7"
  }
 },
 "nbformat": 4,
 "nbformat_minor": 5
}
